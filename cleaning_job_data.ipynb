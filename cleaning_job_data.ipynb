{
 "cells": [
  {
   "cell_type": "markdown",
   "id": "d546403a",
   "metadata": {},
   "source": [
    "# Junior Job Data Cleaning\n",
    "\n",
    "This notebook is just to clean data that will go into Tableau. We have text data so we need something like Python to do this. The end goal is to look at different types of jobs and filter by them to see what trends occur in junior level positions."
   ]
  },
  {
   "cell_type": "code",
   "execution_count": 139,
   "id": "408f76ca",
   "metadata": {},
   "outputs": [],
   "source": [
    "import numpy as np\n",
    "import pandas as pd\n",
    "import string\n",
    "import re\n",
    "import ast\n",
    "import nltk\n",
    "from nltk.corpus import stopwords\n",
    "from collections import Counter\n",
    "from collections import defaultdict"
   ]
  },
  {
   "cell_type": "code",
   "execution_count": 140,
   "id": "43d9cf58",
   "metadata": {},
   "outputs": [
    {
     "data": {
      "text/html": [
       "<div>\n",
       "<style scoped>\n",
       "    .dataframe tbody tr th:only-of-type {\n",
       "        vertical-align: middle;\n",
       "    }\n",
       "\n",
       "    .dataframe tbody tr th {\n",
       "        vertical-align: top;\n",
       "    }\n",
       "\n",
       "    .dataframe thead th {\n",
       "        text-align: right;\n",
       "    }\n",
       "</style>\n",
       "<table border=\"1\" class=\"dataframe\">\n",
       "  <thead>\n",
       "    <tr style=\"text-align: right;\">\n",
       "      <th></th>\n",
       "      <th>company</th>\n",
       "      <th>description</th>\n",
       "      <th>focus</th>\n",
       "      <th>jobTitle</th>\n",
       "      <th>link</th>\n",
       "      <th>location</th>\n",
       "      <th>postedDate</th>\n",
       "      <th>remote</th>\n",
       "      <th>salaryCurrency</th>\n",
       "      <th>salaryRange</th>\n",
       "      <th>type</th>\n",
       "      <th>yearsOfExperience</th>\n",
       "    </tr>\n",
       "  </thead>\n",
       "  <tbody>\n",
       "    <tr>\n",
       "      <th>0</th>\n",
       "      <td>Novovu</td>\n",
       "      <td>[b]We are looking for a talented frontend web ...</td>\n",
       "      <td>Frontend Developer</td>\n",
       "      <td>Frontend Developer (HTML, CSS, and JS) - Remote</td>\n",
       "      <td>https://lensa.com/frontend-developer-html-css-...</td>\n",
       "      <td>Fort Washington, PA, USA</td>\n",
       "      <td>Jul 14, 2023 8:00 am</td>\n",
       "      <td>100% Remote</td>\n",
       "      <td>$</td>\n",
       "      <td>[]</td>\n",
       "      <td>Full-time</td>\n",
       "      <td>0-1 year</td>\n",
       "    </tr>\n",
       "    <tr>\n",
       "      <th>1</th>\n",
       "      <td>Coalition Technologies</td>\n",
       "      <td>[heading2]WHY YOU SHOULD APPLY:[/heading2]\\r\\n...</td>\n",
       "      <td>Frontend Developer</td>\n",
       "      <td>Front End Developer</td>\n",
       "      <td>https://www.virtualvocations.com/job/remote-fr...</td>\n",
       "      <td>NaN</td>\n",
       "      <td>Jul 14, 2023 8:01 am</td>\n",
       "      <td>100% Remote</td>\n",
       "      <td>$</td>\n",
       "      <td>[15,35]</td>\n",
       "      <td>Full-time</td>\n",
       "      <td>0-1 year</td>\n",
       "    </tr>\n",
       "    <tr>\n",
       "      <th>2</th>\n",
       "      <td>Get It Recruit - Information Technology</td>\n",
       "      <td>[heading2]Job Description[/heading2]\\r\\n\\r\\nAs...</td>\n",
       "      <td>Backend Developer</td>\n",
       "      <td>Software Developer - Remote | WFH</td>\n",
       "      <td>https://www.linkedin.com/jobs/view/software-de...</td>\n",
       "      <td>King George, VA 22485, USA</td>\n",
       "      <td>Jul 14, 2023 8:03 am</td>\n",
       "      <td>100% In-Office</td>\n",
       "      <td>$</td>\n",
       "      <td>[72000,182000]</td>\n",
       "      <td>Full-time</td>\n",
       "      <td>0-1 year</td>\n",
       "    </tr>\n",
       "    <tr>\n",
       "      <th>3</th>\n",
       "      <td>SiLo</td>\n",
       "      <td>[b]Based in Downtown Nashville, Simple Logisti...</td>\n",
       "      <td>Fullstack Developer</td>\n",
       "      <td>Junior .NET Full Stack Developer</td>\n",
       "      <td>https://jobs.wjhl.com/jobs/junior-.net-full-st...</td>\n",
       "      <td>Nashville, TN, USA</td>\n",
       "      <td>Jul 14, 2023 8:04 am</td>\n",
       "      <td>100% In-Office</td>\n",
       "      <td>$</td>\n",
       "      <td>[]</td>\n",
       "      <td>Full-time</td>\n",
       "      <td>0-1 year</td>\n",
       "    </tr>\n",
       "    <tr>\n",
       "      <th>4</th>\n",
       "      <td>eDiligence</td>\n",
       "      <td>[center][size=4][b]Entry Level Full Stack Deve...</td>\n",
       "      <td>Fullstack Developer</td>\n",
       "      <td>Entry Level Software Developer</td>\n",
       "      <td>https://jooble.org/jdp/-2571818786162603564/En...</td>\n",
       "      <td>Los Angeles, CA, USA</td>\n",
       "      <td>Jul 14, 2023 8:05 am</td>\n",
       "      <td>Hybrid Work</td>\n",
       "      <td>$</td>\n",
       "      <td>[]</td>\n",
       "      <td>Full-time</td>\n",
       "      <td>0-1 year</td>\n",
       "    </tr>\n",
       "  </tbody>\n",
       "</table>\n",
       "</div>"
      ],
      "text/plain": [
       "                                   company  \\\n",
       "0                                   Novovu   \n",
       "1                   Coalition Technologies   \n",
       "2  Get It Recruit - Information Technology   \n",
       "3                                     SiLo   \n",
       "4                               eDiligence   \n",
       "\n",
       "                                         description                focus  \\\n",
       "0  [b]We are looking for a talented frontend web ...   Frontend Developer   \n",
       "1  [heading2]WHY YOU SHOULD APPLY:[/heading2]\\r\\n...   Frontend Developer   \n",
       "2  [heading2]Job Description[/heading2]\\r\\n\\r\\nAs...    Backend Developer   \n",
       "3  [b]Based in Downtown Nashville, Simple Logisti...  Fullstack Developer   \n",
       "4  [center][size=4][b]Entry Level Full Stack Deve...  Fullstack Developer   \n",
       "\n",
       "                                          jobTitle  \\\n",
       "0  Frontend Developer (HTML, CSS, and JS) - Remote   \n",
       "1                              Front End Developer   \n",
       "2                Software Developer - Remote | WFH   \n",
       "3                 Junior .NET Full Stack Developer   \n",
       "4                   Entry Level Software Developer   \n",
       "\n",
       "                                                link  \\\n",
       "0  https://lensa.com/frontend-developer-html-css-...   \n",
       "1  https://www.virtualvocations.com/job/remote-fr...   \n",
       "2  https://www.linkedin.com/jobs/view/software-de...   \n",
       "3  https://jobs.wjhl.com/jobs/junior-.net-full-st...   \n",
       "4  https://jooble.org/jdp/-2571818786162603564/En...   \n",
       "\n",
       "                     location            postedDate          remote  \\\n",
       "0    Fort Washington, PA, USA  Jul 14, 2023 8:00 am     100% Remote   \n",
       "1                         NaN  Jul 14, 2023 8:01 am     100% Remote   \n",
       "2  King George, VA 22485, USA  Jul 14, 2023 8:03 am  100% In-Office   \n",
       "3          Nashville, TN, USA  Jul 14, 2023 8:04 am  100% In-Office   \n",
       "4        Los Angeles, CA, USA  Jul 14, 2023 8:05 am     Hybrid Work   \n",
       "\n",
       "  salaryCurrency     salaryRange       type yearsOfExperience  \n",
       "0              $              []  Full-time          0-1 year  \n",
       "1              $         [15,35]  Full-time          0-1 year  \n",
       "2              $  [72000,182000]  Full-time          0-1 year  \n",
       "3              $              []  Full-time          0-1 year  \n",
       "4              $              []  Full-time          0-1 year  "
      ]
     },
     "execution_count": 140,
     "metadata": {},
     "output_type": "execute_result"
    }
   ],
   "source": [
    "orig_df = pd.read_csv('Jobs_Data.csv')\n",
    "\n",
    "#want to keep original just in case, since a lot of changes will occur\n",
    "df = orig_df.copy()\n",
    "\n",
    "df.head()"
   ]
  },
  {
   "cell_type": "code",
   "execution_count": 141,
   "id": "e250cfca",
   "metadata": {},
   "outputs": [
    {
     "data": {
      "text/html": [
       "<div>\n",
       "<style scoped>\n",
       "    .dataframe tbody tr th:only-of-type {\n",
       "        vertical-align: middle;\n",
       "    }\n",
       "\n",
       "    .dataframe tbody tr th {\n",
       "        vertical-align: top;\n",
       "    }\n",
       "\n",
       "    .dataframe thead th {\n",
       "        text-align: right;\n",
       "    }\n",
       "</style>\n",
       "<table border=\"1\" class=\"dataframe\">\n",
       "  <thead>\n",
       "    <tr style=\"text-align: right;\">\n",
       "      <th></th>\n",
       "      <th>company</th>\n",
       "      <th>description</th>\n",
       "      <th>focus</th>\n",
       "      <th>jobTitle</th>\n",
       "      <th>link</th>\n",
       "      <th>location</th>\n",
       "      <th>postedDate</th>\n",
       "      <th>remote</th>\n",
       "      <th>salaryCurrency</th>\n",
       "      <th>salaryRange</th>\n",
       "      <th>type</th>\n",
       "      <th>yearsOfExperience</th>\n",
       "    </tr>\n",
       "  </thead>\n",
       "  <tbody>\n",
       "    <tr>\n",
       "      <th>count</th>\n",
       "      <td>1426</td>\n",
       "      <td>1422</td>\n",
       "      <td>1426</td>\n",
       "      <td>1426</td>\n",
       "      <td>1426</td>\n",
       "      <td>1057</td>\n",
       "      <td>1426</td>\n",
       "      <td>1426</td>\n",
       "      <td>1424</td>\n",
       "      <td>1426</td>\n",
       "      <td>1426</td>\n",
       "      <td>1426</td>\n",
       "    </tr>\n",
       "    <tr>\n",
       "      <th>unique</th>\n",
       "      <td>943</td>\n",
       "      <td>1202</td>\n",
       "      <td>85</td>\n",
       "      <td>845</td>\n",
       "      <td>1244</td>\n",
       "      <td>367</td>\n",
       "      <td>895</td>\n",
       "      <td>3</td>\n",
       "      <td>1</td>\n",
       "      <td>261</td>\n",
       "      <td>3</td>\n",
       "      <td>4</td>\n",
       "    </tr>\n",
       "    <tr>\n",
       "      <th>top</th>\n",
       "      <td>Guidehouse</td>\n",
       "      <td>[b]Position Summary...[/b]\\r\\n\\r\\nWhat you'll ...</td>\n",
       "      <td>Data Analyst</td>\n",
       "      <td>Data Analyst</td>\n",
       "      <td>https://www.ziprecruiter.com/c/Reesby/Job/UI-U...</td>\n",
       "      <td>United States</td>\n",
       "      <td>Aug 1, 2023 8:00 pm</td>\n",
       "      <td>Hybrid Work</td>\n",
       "      <td>$</td>\n",
       "      <td>[]</td>\n",
       "      <td>Full-time</td>\n",
       "      <td>0-1 year</td>\n",
       "    </tr>\n",
       "    <tr>\n",
       "      <th>freq</th>\n",
       "      <td>27</td>\n",
       "      <td>15</td>\n",
       "      <td>210</td>\n",
       "      <td>48</td>\n",
       "      <td>10</td>\n",
       "      <td>54</td>\n",
       "      <td>17</td>\n",
       "      <td>595</td>\n",
       "      <td>1424</td>\n",
       "      <td>1032</td>\n",
       "      <td>1353</td>\n",
       "      <td>879</td>\n",
       "    </tr>\n",
       "  </tbody>\n",
       "</table>\n",
       "</div>"
      ],
      "text/plain": [
       "           company                                        description  \\\n",
       "count         1426                                               1422   \n",
       "unique         943                                               1202   \n",
       "top     Guidehouse  [b]Position Summary...[/b]\\r\\n\\r\\nWhat you'll ...   \n",
       "freq            27                                                 15   \n",
       "\n",
       "               focus      jobTitle  \\\n",
       "count           1426          1426   \n",
       "unique            85           845   \n",
       "top     Data Analyst  Data Analyst   \n",
       "freq             210            48   \n",
       "\n",
       "                                                     link       location  \\\n",
       "count                                                1426           1057   \n",
       "unique                                               1244            367   \n",
       "top     https://www.ziprecruiter.com/c/Reesby/Job/UI-U...  United States   \n",
       "freq                                                   10             54   \n",
       "\n",
       "                 postedDate       remote salaryCurrency salaryRange  \\\n",
       "count                  1426         1426           1424        1426   \n",
       "unique                  895            3              1         261   \n",
       "top     Aug 1, 2023 8:00 pm  Hybrid Work              $          []   \n",
       "freq                     17          595           1424        1032   \n",
       "\n",
       "             type yearsOfExperience  \n",
       "count        1426              1426  \n",
       "unique          3                 4  \n",
       "top     Full-time          0-1 year  \n",
       "freq         1353               879  "
      ]
     },
     "execution_count": 141,
     "metadata": {},
     "output_type": "execute_result"
    }
   ],
   "source": [
    "df.describe()"
   ]
  },
  {
   "cell_type": "code",
   "execution_count": 142,
   "id": "aef54979",
   "metadata": {},
   "outputs": [
    {
     "data": {
      "text/plain": [
       "27"
      ]
     },
     "execution_count": 142,
     "metadata": {},
     "output_type": "execute_result"
    }
   ],
   "source": [
    "countCompany = Counter(df['company'])\n",
    "\n",
    "max(countCompany.values())"
   ]
  },
  {
   "cell_type": "markdown",
   "id": "d8b60c9e",
   "metadata": {},
   "source": [
    "Want to count most frequent company since if it is low then can conclude that this feature is probably not useful."
   ]
  },
  {
   "cell_type": "code",
   "execution_count": 143,
   "id": "de0aae0a",
   "metadata": {},
   "outputs": [],
   "source": [
    "def get_key_by_value(dictionary, target_value):\n",
    "    for key, value in dictionary.items():\n",
    "        if value == target_value:\n",
    "            return key\n",
    "    return None"
   ]
  },
  {
   "cell_type": "code",
   "execution_count": 144,
   "id": "e5580696",
   "metadata": {},
   "outputs": [
    {
     "data": {
      "text/plain": [
       "'Guidehouse'"
      ]
     },
     "execution_count": 144,
     "metadata": {},
     "output_type": "execute_result"
    }
   ],
   "source": [
    "get_key_by_value(countCompany, 27)"
   ]
  },
  {
   "cell_type": "markdown",
   "id": "ca8c2509",
   "metadata": {},
   "source": [
    "Most common company is Guidehouse with only 27 occurences, so this is not a significant feature to look at, especially if broken down by job title."
   ]
  },
  {
   "cell_type": "markdown",
   "id": "7d834329",
   "metadata": {},
   "source": [
    "Get the hour of the job posting."
   ]
  },
  {
   "cell_type": "code",
   "execution_count": 145,
   "id": "e57cbe0c",
   "metadata": {},
   "outputs": [],
   "source": [
    "df['postingHour'] = df['postedDate'].apply(lambda x: x[-7] + ' ' + x[-2:])"
   ]
  },
  {
   "cell_type": "code",
   "execution_count": 146,
   "id": "afd931ce",
   "metadata": {},
   "outputs": [
    {
     "data": {
      "text/plain": [
       "Counter({'8 am': 1094,\n",
       "         '9 am': 149,\n",
       "         '0 am': 66,\n",
       "         '5 pm': 10,\n",
       "         '4 am': 4,\n",
       "         '1 pm': 17,\n",
       "         '6 am': 7,\n",
       "         '2 am': 3,\n",
       "         '3 pm': 6,\n",
       "         '1 am': 5,\n",
       "         '7 pm': 6,\n",
       "         '8 pm': 33,\n",
       "         '0 pm': 3,\n",
       "         '7 am': 3,\n",
       "         '6 pm': 3,\n",
       "         '5 am': 2,\n",
       "         '2 pm': 6,\n",
       "         '3 am': 3,\n",
       "         '9 pm': 2,\n",
       "         '4 pm': 4})"
      ]
     },
     "execution_count": 146,
     "metadata": {},
     "output_type": "execute_result"
    }
   ],
   "source": [
    "Counter(df['postingHour'])"
   ]
  },
  {
   "cell_type": "code",
   "execution_count": 147,
   "id": "6eb23f9a",
   "metadata": {},
   "outputs": [
    {
     "data": {
      "text/html": [
       "<div>\n",
       "<style scoped>\n",
       "    .dataframe tbody tr th:only-of-type {\n",
       "        vertical-align: middle;\n",
       "    }\n",
       "\n",
       "    .dataframe tbody tr th {\n",
       "        vertical-align: top;\n",
       "    }\n",
       "\n",
       "    .dataframe thead th {\n",
       "        text-align: right;\n",
       "    }\n",
       "</style>\n",
       "<table border=\"1\" class=\"dataframe\">\n",
       "  <thead>\n",
       "    <tr style=\"text-align: right;\">\n",
       "      <th></th>\n",
       "      <th>company</th>\n",
       "      <th>description</th>\n",
       "      <th>focus</th>\n",
       "      <th>jobTitle</th>\n",
       "      <th>link</th>\n",
       "      <th>location</th>\n",
       "      <th>postedDate</th>\n",
       "      <th>remote</th>\n",
       "      <th>salaryCurrency</th>\n",
       "      <th>salaryRange</th>\n",
       "      <th>type</th>\n",
       "      <th>yearsOfExperience</th>\n",
       "      <th>postingHour</th>\n",
       "    </tr>\n",
       "  </thead>\n",
       "  <tbody>\n",
       "    <tr>\n",
       "      <th>0</th>\n",
       "      <td>Novovu</td>\n",
       "      <td>[b]We are looking for a talented frontend web ...</td>\n",
       "      <td>Frontend Developer</td>\n",
       "      <td>Frontend Developer (HTML, CSS, and JS) - Remote</td>\n",
       "      <td>https://lensa.com/frontend-developer-html-css-...</td>\n",
       "      <td>Fort Washington, PA, USA</td>\n",
       "      <td>Jul 14, 2023 8:00 am</td>\n",
       "      <td>100% Remote</td>\n",
       "      <td>$</td>\n",
       "      <td>[]</td>\n",
       "      <td>Full-time</td>\n",
       "      <td>0-1 year</td>\n",
       "      <td>8 am</td>\n",
       "    </tr>\n",
       "    <tr>\n",
       "      <th>1</th>\n",
       "      <td>Coalition Technologies</td>\n",
       "      <td>[heading2]WHY YOU SHOULD APPLY:[/heading2]\\r\\n...</td>\n",
       "      <td>Frontend Developer</td>\n",
       "      <td>Front End Developer</td>\n",
       "      <td>https://www.virtualvocations.com/job/remote-fr...</td>\n",
       "      <td>NaN</td>\n",
       "      <td>Jul 14, 2023 8:01 am</td>\n",
       "      <td>100% Remote</td>\n",
       "      <td>$</td>\n",
       "      <td>[15,35]</td>\n",
       "      <td>Full-time</td>\n",
       "      <td>0-1 year</td>\n",
       "      <td>8 am</td>\n",
       "    </tr>\n",
       "    <tr>\n",
       "      <th>2</th>\n",
       "      <td>Get It Recruit - Information Technology</td>\n",
       "      <td>[heading2]Job Description[/heading2]\\r\\n\\r\\nAs...</td>\n",
       "      <td>Backend Developer</td>\n",
       "      <td>Software Developer - Remote | WFH</td>\n",
       "      <td>https://www.linkedin.com/jobs/view/software-de...</td>\n",
       "      <td>King George, VA 22485, USA</td>\n",
       "      <td>Jul 14, 2023 8:03 am</td>\n",
       "      <td>100% In-Office</td>\n",
       "      <td>$</td>\n",
       "      <td>[72000,182000]</td>\n",
       "      <td>Full-time</td>\n",
       "      <td>0-1 year</td>\n",
       "      <td>8 am</td>\n",
       "    </tr>\n",
       "    <tr>\n",
       "      <th>3</th>\n",
       "      <td>SiLo</td>\n",
       "      <td>[b]Based in Downtown Nashville, Simple Logisti...</td>\n",
       "      <td>Fullstack Developer</td>\n",
       "      <td>Junior .NET Full Stack Developer</td>\n",
       "      <td>https://jobs.wjhl.com/jobs/junior-.net-full-st...</td>\n",
       "      <td>Nashville, TN, USA</td>\n",
       "      <td>Jul 14, 2023 8:04 am</td>\n",
       "      <td>100% In-Office</td>\n",
       "      <td>$</td>\n",
       "      <td>[]</td>\n",
       "      <td>Full-time</td>\n",
       "      <td>0-1 year</td>\n",
       "      <td>8 am</td>\n",
       "    </tr>\n",
       "    <tr>\n",
       "      <th>4</th>\n",
       "      <td>eDiligence</td>\n",
       "      <td>[center][size=4][b]Entry Level Full Stack Deve...</td>\n",
       "      <td>Fullstack Developer</td>\n",
       "      <td>Entry Level Software Developer</td>\n",
       "      <td>https://jooble.org/jdp/-2571818786162603564/En...</td>\n",
       "      <td>Los Angeles, CA, USA</td>\n",
       "      <td>Jul 14, 2023 8:05 am</td>\n",
       "      <td>Hybrid Work</td>\n",
       "      <td>$</td>\n",
       "      <td>[]</td>\n",
       "      <td>Full-time</td>\n",
       "      <td>0-1 year</td>\n",
       "      <td>8 am</td>\n",
       "    </tr>\n",
       "  </tbody>\n",
       "</table>\n",
       "</div>"
      ],
      "text/plain": [
       "                                   company  \\\n",
       "0                                   Novovu   \n",
       "1                   Coalition Technologies   \n",
       "2  Get It Recruit - Information Technology   \n",
       "3                                     SiLo   \n",
       "4                               eDiligence   \n",
       "\n",
       "                                         description                focus  \\\n",
       "0  [b]We are looking for a talented frontend web ...   Frontend Developer   \n",
       "1  [heading2]WHY YOU SHOULD APPLY:[/heading2]\\r\\n...   Frontend Developer   \n",
       "2  [heading2]Job Description[/heading2]\\r\\n\\r\\nAs...    Backend Developer   \n",
       "3  [b]Based in Downtown Nashville, Simple Logisti...  Fullstack Developer   \n",
       "4  [center][size=4][b]Entry Level Full Stack Deve...  Fullstack Developer   \n",
       "\n",
       "                                          jobTitle  \\\n",
       "0  Frontend Developer (HTML, CSS, and JS) - Remote   \n",
       "1                              Front End Developer   \n",
       "2                Software Developer - Remote | WFH   \n",
       "3                 Junior .NET Full Stack Developer   \n",
       "4                   Entry Level Software Developer   \n",
       "\n",
       "                                                link  \\\n",
       "0  https://lensa.com/frontend-developer-html-css-...   \n",
       "1  https://www.virtualvocations.com/job/remote-fr...   \n",
       "2  https://www.linkedin.com/jobs/view/software-de...   \n",
       "3  https://jobs.wjhl.com/jobs/junior-.net-full-st...   \n",
       "4  https://jooble.org/jdp/-2571818786162603564/En...   \n",
       "\n",
       "                     location            postedDate          remote  \\\n",
       "0    Fort Washington, PA, USA  Jul 14, 2023 8:00 am     100% Remote   \n",
       "1                         NaN  Jul 14, 2023 8:01 am     100% Remote   \n",
       "2  King George, VA 22485, USA  Jul 14, 2023 8:03 am  100% In-Office   \n",
       "3          Nashville, TN, USA  Jul 14, 2023 8:04 am  100% In-Office   \n",
       "4        Los Angeles, CA, USA  Jul 14, 2023 8:05 am     Hybrid Work   \n",
       "\n",
       "  salaryCurrency     salaryRange       type yearsOfExperience postingHour  \n",
       "0              $              []  Full-time          0-1 year        8 am  \n",
       "1              $         [15,35]  Full-time          0-1 year        8 am  \n",
       "2              $  [72000,182000]  Full-time          0-1 year        8 am  \n",
       "3              $              []  Full-time          0-1 year        8 am  \n",
       "4              $              []  Full-time          0-1 year        8 am  "
      ]
     },
     "execution_count": 147,
     "metadata": {},
     "output_type": "execute_result"
    }
   ],
   "source": [
    "df.head()"
   ]
  },
  {
   "cell_type": "markdown",
   "id": "81a85a8f",
   "metadata": {},
   "source": [
    "Office location, years of experience, and type features need no cleaning:"
   ]
  },
  {
   "cell_type": "code",
   "execution_count": 148,
   "id": "28267ff2",
   "metadata": {},
   "outputs": [
    {
     "data": {
      "text/plain": [
       "Counter({'100% Remote': 333, '100% In-Office': 498, 'Hybrid Work': 595})"
      ]
     },
     "execution_count": 148,
     "metadata": {},
     "output_type": "execute_result"
    }
   ],
   "source": [
    "Counter(df['remote'])"
   ]
  },
  {
   "cell_type": "code",
   "execution_count": 149,
   "id": "1b10bacb",
   "metadata": {},
   "outputs": [
    {
     "data": {
      "text/plain": [
       "Counter({'Full-time': 1353, 'Part-time': 38, 'Internship': 35})"
      ]
     },
     "execution_count": 149,
     "metadata": {},
     "output_type": "execute_result"
    }
   ],
   "source": [
    "Counter(df['type'])"
   ]
  },
  {
   "cell_type": "code",
   "execution_count": 150,
   "id": "f40ce50c",
   "metadata": {},
   "outputs": [
    {
     "data": {
      "text/plain": [
       "Counter({'0-1 year': 879, '1-3 years': 545, '5+ years': 1, '3-5 years': 1})"
      ]
     },
     "execution_count": 150,
     "metadata": {},
     "output_type": "execute_result"
    }
   ],
   "source": [
    "Counter(df['yearsOfExperience'])"
   ]
  },
  {
   "cell_type": "markdown",
   "id": "7261838d",
   "metadata": {},
   "source": [
    "Almost all salaries are in $, and two are nan, so we can ignore this feature."
   ]
  },
  {
   "cell_type": "code",
   "execution_count": 151,
   "id": "58b9a688",
   "metadata": {},
   "outputs": [
    {
     "data": {
      "text/plain": [
       "Counter({'$': 1424, nan: 2})"
      ]
     },
     "execution_count": 151,
     "metadata": {},
     "output_type": "execute_result"
    }
   ],
   "source": [
    "Counter(df['salaryCurrency'])"
   ]
  },
  {
   "cell_type": "markdown",
   "id": "d98f4772",
   "metadata": {},
   "source": [
    "Want to split the salary range into two features."
   ]
  },
  {
   "cell_type": "code",
   "execution_count": 152,
   "id": "59912a5e",
   "metadata": {},
   "outputs": [],
   "source": [
    "#since the original feature is a string\n",
    "df['salaryRange'] = df['salaryRange'].apply(lambda x: ast.literal_eval(x) if pd.notna(x) and x != '[]' else np.nan)"
   ]
  },
  {
   "cell_type": "code",
   "execution_count": 153,
   "id": "e3de939e",
   "metadata": {},
   "outputs": [],
   "source": [
    "df['minSalary'] = df['salaryRange'].apply(lambda x: x[0] if x is not np.nan else np.nan)\n",
    "df['maxSalary'] = df['salaryRange'].apply(lambda x: x[1] if x is not np.nan else np.nan)"
   ]
  },
  {
   "cell_type": "code",
   "execution_count": 154,
   "id": "8ecbcdbb",
   "metadata": {},
   "outputs": [
    {
     "data": {
      "text/html": [
       "<div>\n",
       "<style scoped>\n",
       "    .dataframe tbody tr th:only-of-type {\n",
       "        vertical-align: middle;\n",
       "    }\n",
       "\n",
       "    .dataframe tbody tr th {\n",
       "        vertical-align: top;\n",
       "    }\n",
       "\n",
       "    .dataframe thead th {\n",
       "        text-align: right;\n",
       "    }\n",
       "</style>\n",
       "<table border=\"1\" class=\"dataframe\">\n",
       "  <thead>\n",
       "    <tr style=\"text-align: right;\">\n",
       "      <th></th>\n",
       "      <th>company</th>\n",
       "      <th>description</th>\n",
       "      <th>focus</th>\n",
       "      <th>jobTitle</th>\n",
       "      <th>link</th>\n",
       "      <th>location</th>\n",
       "      <th>postedDate</th>\n",
       "      <th>remote</th>\n",
       "      <th>salaryCurrency</th>\n",
       "      <th>salaryRange</th>\n",
       "      <th>type</th>\n",
       "      <th>yearsOfExperience</th>\n",
       "      <th>postingHour</th>\n",
       "      <th>minSalary</th>\n",
       "      <th>maxSalary</th>\n",
       "    </tr>\n",
       "  </thead>\n",
       "  <tbody>\n",
       "    <tr>\n",
       "      <th>0</th>\n",
       "      <td>Novovu</td>\n",
       "      <td>[b]We are looking for a talented frontend web ...</td>\n",
       "      <td>Frontend Developer</td>\n",
       "      <td>Frontend Developer (HTML, CSS, and JS) - Remote</td>\n",
       "      <td>https://lensa.com/frontend-developer-html-css-...</td>\n",
       "      <td>Fort Washington, PA, USA</td>\n",
       "      <td>Jul 14, 2023 8:00 am</td>\n",
       "      <td>100% Remote</td>\n",
       "      <td>$</td>\n",
       "      <td>NaN</td>\n",
       "      <td>Full-time</td>\n",
       "      <td>0-1 year</td>\n",
       "      <td>8 am</td>\n",
       "      <td>NaN</td>\n",
       "      <td>NaN</td>\n",
       "    </tr>\n",
       "    <tr>\n",
       "      <th>1</th>\n",
       "      <td>Coalition Technologies</td>\n",
       "      <td>[heading2]WHY YOU SHOULD APPLY:[/heading2]\\r\\n...</td>\n",
       "      <td>Frontend Developer</td>\n",
       "      <td>Front End Developer</td>\n",
       "      <td>https://www.virtualvocations.com/job/remote-fr...</td>\n",
       "      <td>NaN</td>\n",
       "      <td>Jul 14, 2023 8:01 am</td>\n",
       "      <td>100% Remote</td>\n",
       "      <td>$</td>\n",
       "      <td>[15, 35]</td>\n",
       "      <td>Full-time</td>\n",
       "      <td>0-1 year</td>\n",
       "      <td>8 am</td>\n",
       "      <td>15.0</td>\n",
       "      <td>35.0</td>\n",
       "    </tr>\n",
       "    <tr>\n",
       "      <th>2</th>\n",
       "      <td>Get It Recruit - Information Technology</td>\n",
       "      <td>[heading2]Job Description[/heading2]\\r\\n\\r\\nAs...</td>\n",
       "      <td>Backend Developer</td>\n",
       "      <td>Software Developer - Remote | WFH</td>\n",
       "      <td>https://www.linkedin.com/jobs/view/software-de...</td>\n",
       "      <td>King George, VA 22485, USA</td>\n",
       "      <td>Jul 14, 2023 8:03 am</td>\n",
       "      <td>100% In-Office</td>\n",
       "      <td>$</td>\n",
       "      <td>[72000, 182000]</td>\n",
       "      <td>Full-time</td>\n",
       "      <td>0-1 year</td>\n",
       "      <td>8 am</td>\n",
       "      <td>72000.0</td>\n",
       "      <td>182000.0</td>\n",
       "    </tr>\n",
       "    <tr>\n",
       "      <th>3</th>\n",
       "      <td>SiLo</td>\n",
       "      <td>[b]Based in Downtown Nashville, Simple Logisti...</td>\n",
       "      <td>Fullstack Developer</td>\n",
       "      <td>Junior .NET Full Stack Developer</td>\n",
       "      <td>https://jobs.wjhl.com/jobs/junior-.net-full-st...</td>\n",
       "      <td>Nashville, TN, USA</td>\n",
       "      <td>Jul 14, 2023 8:04 am</td>\n",
       "      <td>100% In-Office</td>\n",
       "      <td>$</td>\n",
       "      <td>NaN</td>\n",
       "      <td>Full-time</td>\n",
       "      <td>0-1 year</td>\n",
       "      <td>8 am</td>\n",
       "      <td>NaN</td>\n",
       "      <td>NaN</td>\n",
       "    </tr>\n",
       "    <tr>\n",
       "      <th>4</th>\n",
       "      <td>eDiligence</td>\n",
       "      <td>[center][size=4][b]Entry Level Full Stack Deve...</td>\n",
       "      <td>Fullstack Developer</td>\n",
       "      <td>Entry Level Software Developer</td>\n",
       "      <td>https://jooble.org/jdp/-2571818786162603564/En...</td>\n",
       "      <td>Los Angeles, CA, USA</td>\n",
       "      <td>Jul 14, 2023 8:05 am</td>\n",
       "      <td>Hybrid Work</td>\n",
       "      <td>$</td>\n",
       "      <td>NaN</td>\n",
       "      <td>Full-time</td>\n",
       "      <td>0-1 year</td>\n",
       "      <td>8 am</td>\n",
       "      <td>NaN</td>\n",
       "      <td>NaN</td>\n",
       "    </tr>\n",
       "    <tr>\n",
       "      <th>5</th>\n",
       "      <td>Leidos Holding</td>\n",
       "      <td>[center][size=5]Description[/size][/center]\\r\\...</td>\n",
       "      <td>Fullstack Developer</td>\n",
       "      <td>Junior Full Stack Developer</td>\n",
       "      <td>https://clearedcareers.com/job/319461/junior-f...</td>\n",
       "      <td>Colorado Springs, CO, USA</td>\n",
       "      <td>Jul 14, 2023 8:06 am</td>\n",
       "      <td>Hybrid Work</td>\n",
       "      <td>$</td>\n",
       "      <td>[53300, 110700]</td>\n",
       "      <td>Full-time</td>\n",
       "      <td>0-1 year</td>\n",
       "      <td>8 am</td>\n",
       "      <td>53300.0</td>\n",
       "      <td>110700.0</td>\n",
       "    </tr>\n",
       "    <tr>\n",
       "      <th>6</th>\n",
       "      <td>BigBear.ai</td>\n",
       "      <td>[heading2]Overview[/heading2]\\r\\n\\r\\nBigBear.a...</td>\n",
       "      <td>Fullstack Developer</td>\n",
       "      <td>Jr. Full Stack Developer</td>\n",
       "      <td>https://getwork.com/details/bcdec3380ac6383c52...</td>\n",
       "      <td>Washington, MA, USA</td>\n",
       "      <td>Jul 14, 2023 8:07 am</td>\n",
       "      <td>100% Remote</td>\n",
       "      <td>$</td>\n",
       "      <td>NaN</td>\n",
       "      <td>Full-time</td>\n",
       "      <td>0-1 year</td>\n",
       "      <td>8 am</td>\n",
       "      <td>NaN</td>\n",
       "      <td>NaN</td>\n",
       "    </tr>\n",
       "  </tbody>\n",
       "</table>\n",
       "</div>"
      ],
      "text/plain": [
       "                                   company  \\\n",
       "0                                   Novovu   \n",
       "1                   Coalition Technologies   \n",
       "2  Get It Recruit - Information Technology   \n",
       "3                                     SiLo   \n",
       "4                               eDiligence   \n",
       "5                           Leidos Holding   \n",
       "6                               BigBear.ai   \n",
       "\n",
       "                                         description                focus  \\\n",
       "0  [b]We are looking for a talented frontend web ...   Frontend Developer   \n",
       "1  [heading2]WHY YOU SHOULD APPLY:[/heading2]\\r\\n...   Frontend Developer   \n",
       "2  [heading2]Job Description[/heading2]\\r\\n\\r\\nAs...    Backend Developer   \n",
       "3  [b]Based in Downtown Nashville, Simple Logisti...  Fullstack Developer   \n",
       "4  [center][size=4][b]Entry Level Full Stack Deve...  Fullstack Developer   \n",
       "5  [center][size=5]Description[/size][/center]\\r\\...  Fullstack Developer   \n",
       "6  [heading2]Overview[/heading2]\\r\\n\\r\\nBigBear.a...  Fullstack Developer   \n",
       "\n",
       "                                          jobTitle  \\\n",
       "0  Frontend Developer (HTML, CSS, and JS) - Remote   \n",
       "1                              Front End Developer   \n",
       "2                Software Developer - Remote | WFH   \n",
       "3                 Junior .NET Full Stack Developer   \n",
       "4                   Entry Level Software Developer   \n",
       "5                      Junior Full Stack Developer   \n",
       "6                         Jr. Full Stack Developer   \n",
       "\n",
       "                                                link  \\\n",
       "0  https://lensa.com/frontend-developer-html-css-...   \n",
       "1  https://www.virtualvocations.com/job/remote-fr...   \n",
       "2  https://www.linkedin.com/jobs/view/software-de...   \n",
       "3  https://jobs.wjhl.com/jobs/junior-.net-full-st...   \n",
       "4  https://jooble.org/jdp/-2571818786162603564/En...   \n",
       "5  https://clearedcareers.com/job/319461/junior-f...   \n",
       "6  https://getwork.com/details/bcdec3380ac6383c52...   \n",
       "\n",
       "                     location            postedDate          remote  \\\n",
       "0    Fort Washington, PA, USA  Jul 14, 2023 8:00 am     100% Remote   \n",
       "1                         NaN  Jul 14, 2023 8:01 am     100% Remote   \n",
       "2  King George, VA 22485, USA  Jul 14, 2023 8:03 am  100% In-Office   \n",
       "3          Nashville, TN, USA  Jul 14, 2023 8:04 am  100% In-Office   \n",
       "4        Los Angeles, CA, USA  Jul 14, 2023 8:05 am     Hybrid Work   \n",
       "5   Colorado Springs, CO, USA  Jul 14, 2023 8:06 am     Hybrid Work   \n",
       "6         Washington, MA, USA  Jul 14, 2023 8:07 am     100% Remote   \n",
       "\n",
       "  salaryCurrency      salaryRange       type yearsOfExperience postingHour  \\\n",
       "0              $              NaN  Full-time          0-1 year        8 am   \n",
       "1              $         [15, 35]  Full-time          0-1 year        8 am   \n",
       "2              $  [72000, 182000]  Full-time          0-1 year        8 am   \n",
       "3              $              NaN  Full-time          0-1 year        8 am   \n",
       "4              $              NaN  Full-time          0-1 year        8 am   \n",
       "5              $  [53300, 110700]  Full-time          0-1 year        8 am   \n",
       "6              $              NaN  Full-time          0-1 year        8 am   \n",
       "\n",
       "   minSalary  maxSalary  \n",
       "0        NaN        NaN  \n",
       "1       15.0       35.0  \n",
       "2    72000.0   182000.0  \n",
       "3        NaN        NaN  \n",
       "4        NaN        NaN  \n",
       "5    53300.0   110700.0  \n",
       "6        NaN        NaN  "
      ]
     },
     "execution_count": 154,
     "metadata": {},
     "output_type": "execute_result"
    }
   ],
   "source": [
    "df.head(7)"
   ]
  },
  {
   "cell_type": "markdown",
   "id": "ec4c9ceb",
   "metadata": {},
   "source": [
    "Now looking at the focus column - we have lots of focuses that are more than just one focus."
   ]
  },
  {
   "cell_type": "code",
   "execution_count": 155,
   "id": "26239a11",
   "metadata": {},
   "outputs": [
    {
     "data": {
      "text/plain": [
       "Counter({'Frontend Developer': 82,\n",
       "         'Backend Developer': 92,\n",
       "         'Fullstack Developer': 189,\n",
       "         'UX Designer': 114,\n",
       "         'Data Analyst': 210,\n",
       "         'Data Scientist': 100,\n",
       "         'IT Support': 114,\n",
       "         'Penetration Tester': 50,\n",
       "         'Security Analyst': 155,\n",
       "         'UI Designer': 56,\n",
       "         'Outbound Sales Representative': 1,\n",
       "         'UI Designer , UX Designer': 24,\n",
       "         'Frontend Developer , Backend Developer': 2,\n",
       "         'Backend Developer , Business Analyst': 1,\n",
       "         'Fullstack Developer , Scrum': 26,\n",
       "         'Fullstack Developer , Project Management': 2,\n",
       "         'UX Designer , UX Researcher': 5,\n",
       "         'UI Designer , Scrum': 4,\n",
       "         'UI Designer , Frontend Developer': 1,\n",
       "         'UI Designer , UX Researcher , UX Designer , Product Manager': 1,\n",
       "         'UI Designer , Strategy': 1,\n",
       "         'UI Designer , UX Designer , Product Manager': 3,\n",
       "         'Data Analyst , Finance , Business Analyst': 1,\n",
       "         'Data Analyst , Business Analyst': 8,\n",
       "         'Data Analyst , Data Scientist': 34,\n",
       "         'Data Analyst , Product Manager , Data Engineer': 1,\n",
       "         'Data Analyst , Finance , Data Scientist': 1,\n",
       "         'Data Analyst , Finance': 24,\n",
       "         'Data Analyst , Strategy': 1,\n",
       "         'Data Analyst , Scrum': 2,\n",
       "         'Data Analyst , Operations Analyst': 1,\n",
       "         'Data Scientist , Data Analyst': 31,\n",
       "         'Data Scientist , Finance , Data Engineer': 1,\n",
       "         'Data Scientist , Finance': 3,\n",
       "         'Strategy , IT Support': 1,\n",
       "         'Finance , IT Support': 1,\n",
       "         'Security Analyst , Scrum': 1,\n",
       "         'Fullstack Developer , Strategy': 2,\n",
       "         'Fullstack Developer , DevOps Engineer': 1,\n",
       "         'UX Designer , Strategy': 2,\n",
       "         'Data Analyst , Data Engineer': 8,\n",
       "         'Data Scientist , Data Analyst , Finance': 4,\n",
       "         'Security Analyst , IT Support': 8,\n",
       "         'Penetration Tester , Customer Success': 1,\n",
       "         'Security Analyst , Operations Analyst': 2,\n",
       "         'Backend Developer , UX Designer , Product Manager': 1,\n",
       "         'Backend Developer , Finance , Business Analyst': 1,\n",
       "         'Fullstack Developer , UX Designer , Product Manager': 1,\n",
       "         'UX Designer , Product Manager': 2,\n",
       "         'Backend Developer , Product Manager': 1,\n",
       "         'Backend Developer , Project Management , Scrum , Data Engineer': 1,\n",
       "         'Fullstack Developer , UI Designer': 1,\n",
       "         'Fullstack Developer , IT Support': 1,\n",
       "         'Data Analyst , Customer Success , Data Engineer': 1,\n",
       "         'Data Analyst , Customer Success': 2,\n",
       "         'Data Scientist , Data Analyst , Business Analyst': 1,\n",
       "         'Data Scientist , Data Engineer': 2,\n",
       "         'IT Support , Finance': 1,\n",
       "         'Backend Developer , Fullstack Developer': 1,\n",
       "         'IT Support , Project Management': 1,\n",
       "         'Security Analyst , Project Management': 2,\n",
       "         'Security Analyst , Network Engineer': 3,\n",
       "         'Backend Developer , Frontend Developer': 1,\n",
       "         'Fullstack Developer , Strategy , Data Engineer': 5,\n",
       "         'UX Designer , UI Designer': 4,\n",
       "         'UX Designer , Customer Success': 1,\n",
       "         'Data Analyst , Finance , Data Engineer': 1,\n",
       "         'Data Analyst , Project Management': 1,\n",
       "         'Data Scientist , Strategy': 1,\n",
       "         'Data Scientist , Data Analyst , Customer Success': 1,\n",
       "         'Data Scientist , Data Analyst , Data Engineer': 1,\n",
       "         'Backend Developer , Scrum': 1,\n",
       "         'UX Designer , Product Manager , Data Scientist': 1,\n",
       "         'UX Designer , Scrum': 1,\n",
       "         'UI Designer , UX Designer , Scrum': 2,\n",
       "         'Data Analyst , Data Engineer , Data Scientist': 1,\n",
       "         'Data Scientist , Scrum': 1,\n",
       "         'Fullstack Developer , Data Engineer': 1,\n",
       "         'UX Designer , Finance': 1,\n",
       "         'Data Analyst , Strategy , Data Engineer , Data Scientist': 1,\n",
       "         'Data Analyst , Business Analyst , Data Engineer': 1,\n",
       "         'Data Scientist , Data Analyst , Strategy': 1,\n",
       "         'Data Scientist , Data Analyst , Finance , Data Engineer': 1,\n",
       "         'Penetration Tester , Security Analyst': 1,\n",
       "         'Security Analyst , Strategy': 1})"
      ]
     },
     "execution_count": 155,
     "metadata": {},
     "output_type": "execute_result"
    }
   ],
   "source": [
    "Counter(df['focus'])"
   ]
  },
  {
   "cell_type": "markdown",
   "id": "95e7bb68",
   "metadata": {},
   "source": [
    "Jobs with multiple focuses mostly show up only once, and if we take the first focus as the focus then this should balance out and not create any major bias just by looking at the above dictionary.\n",
    "\n",
    "Se we want to put all focuses if there are multiple into a list in a new column. Then will iterate through them to replace the focus with the first focus."
   ]
  },
  {
   "cell_type": "code",
   "execution_count": 156,
   "id": "76f667f8",
   "metadata": {},
   "outputs": [
    {
     "data": {
      "text/html": [
       "<div>\n",
       "<style scoped>\n",
       "    .dataframe tbody tr th:only-of-type {\n",
       "        vertical-align: middle;\n",
       "    }\n",
       "\n",
       "    .dataframe tbody tr th {\n",
       "        vertical-align: top;\n",
       "    }\n",
       "\n",
       "    .dataframe thead th {\n",
       "        text-align: right;\n",
       "    }\n",
       "</style>\n",
       "<table border=\"1\" class=\"dataframe\">\n",
       "  <thead>\n",
       "    <tr style=\"text-align: right;\">\n",
       "      <th></th>\n",
       "      <th>company</th>\n",
       "      <th>description</th>\n",
       "      <th>focus</th>\n",
       "      <th>jobTitle</th>\n",
       "      <th>link</th>\n",
       "      <th>location</th>\n",
       "      <th>postedDate</th>\n",
       "      <th>remote</th>\n",
       "      <th>salaryCurrency</th>\n",
       "      <th>salaryRange</th>\n",
       "      <th>type</th>\n",
       "      <th>yearsOfExperience</th>\n",
       "      <th>postingHour</th>\n",
       "      <th>minSalary</th>\n",
       "      <th>maxSalary</th>\n",
       "      <th>list_of_focus</th>\n",
       "    </tr>\n",
       "  </thead>\n",
       "  <tbody>\n",
       "    <tr>\n",
       "      <th>0</th>\n",
       "      <td>Novovu</td>\n",
       "      <td>[b]We are looking for a talented frontend web ...</td>\n",
       "      <td>Frontend Developer</td>\n",
       "      <td>Frontend Developer (HTML, CSS, and JS) - Remote</td>\n",
       "      <td>https://lensa.com/frontend-developer-html-css-...</td>\n",
       "      <td>Fort Washington, PA, USA</td>\n",
       "      <td>Jul 14, 2023 8:00 am</td>\n",
       "      <td>100% Remote</td>\n",
       "      <td>$</td>\n",
       "      <td>NaN</td>\n",
       "      <td>Full-time</td>\n",
       "      <td>0-1 year</td>\n",
       "      <td>8 am</td>\n",
       "      <td>NaN</td>\n",
       "      <td>NaN</td>\n",
       "      <td>[Frontend Developer]</td>\n",
       "    </tr>\n",
       "    <tr>\n",
       "      <th>1</th>\n",
       "      <td>Coalition Technologies</td>\n",
       "      <td>[heading2]WHY YOU SHOULD APPLY:[/heading2]\\r\\n...</td>\n",
       "      <td>Frontend Developer</td>\n",
       "      <td>Front End Developer</td>\n",
       "      <td>https://www.virtualvocations.com/job/remote-fr...</td>\n",
       "      <td>NaN</td>\n",
       "      <td>Jul 14, 2023 8:01 am</td>\n",
       "      <td>100% Remote</td>\n",
       "      <td>$</td>\n",
       "      <td>[15, 35]</td>\n",
       "      <td>Full-time</td>\n",
       "      <td>0-1 year</td>\n",
       "      <td>8 am</td>\n",
       "      <td>15.0</td>\n",
       "      <td>35.0</td>\n",
       "      <td>[Frontend Developer]</td>\n",
       "    </tr>\n",
       "    <tr>\n",
       "      <th>2</th>\n",
       "      <td>Get It Recruit - Information Technology</td>\n",
       "      <td>[heading2]Job Description[/heading2]\\r\\n\\r\\nAs...</td>\n",
       "      <td>Backend Developer</td>\n",
       "      <td>Software Developer - Remote | WFH</td>\n",
       "      <td>https://www.linkedin.com/jobs/view/software-de...</td>\n",
       "      <td>King George, VA 22485, USA</td>\n",
       "      <td>Jul 14, 2023 8:03 am</td>\n",
       "      <td>100% In-Office</td>\n",
       "      <td>$</td>\n",
       "      <td>[72000, 182000]</td>\n",
       "      <td>Full-time</td>\n",
       "      <td>0-1 year</td>\n",
       "      <td>8 am</td>\n",
       "      <td>72000.0</td>\n",
       "      <td>182000.0</td>\n",
       "      <td>[Backend Developer]</td>\n",
       "    </tr>\n",
       "    <tr>\n",
       "      <th>3</th>\n",
       "      <td>SiLo</td>\n",
       "      <td>[b]Based in Downtown Nashville, Simple Logisti...</td>\n",
       "      <td>Fullstack Developer</td>\n",
       "      <td>Junior .NET Full Stack Developer</td>\n",
       "      <td>https://jobs.wjhl.com/jobs/junior-.net-full-st...</td>\n",
       "      <td>Nashville, TN, USA</td>\n",
       "      <td>Jul 14, 2023 8:04 am</td>\n",
       "      <td>100% In-Office</td>\n",
       "      <td>$</td>\n",
       "      <td>NaN</td>\n",
       "      <td>Full-time</td>\n",
       "      <td>0-1 year</td>\n",
       "      <td>8 am</td>\n",
       "      <td>NaN</td>\n",
       "      <td>NaN</td>\n",
       "      <td>[Fullstack Developer]</td>\n",
       "    </tr>\n",
       "    <tr>\n",
       "      <th>4</th>\n",
       "      <td>eDiligence</td>\n",
       "      <td>[center][size=4][b]Entry Level Full Stack Deve...</td>\n",
       "      <td>Fullstack Developer</td>\n",
       "      <td>Entry Level Software Developer</td>\n",
       "      <td>https://jooble.org/jdp/-2571818786162603564/En...</td>\n",
       "      <td>Los Angeles, CA, USA</td>\n",
       "      <td>Jul 14, 2023 8:05 am</td>\n",
       "      <td>Hybrid Work</td>\n",
       "      <td>$</td>\n",
       "      <td>NaN</td>\n",
       "      <td>Full-time</td>\n",
       "      <td>0-1 year</td>\n",
       "      <td>8 am</td>\n",
       "      <td>NaN</td>\n",
       "      <td>NaN</td>\n",
       "      <td>[Fullstack Developer]</td>\n",
       "    </tr>\n",
       "  </tbody>\n",
       "</table>\n",
       "</div>"
      ],
      "text/plain": [
       "                                   company  \\\n",
       "0                                   Novovu   \n",
       "1                   Coalition Technologies   \n",
       "2  Get It Recruit - Information Technology   \n",
       "3                                     SiLo   \n",
       "4                               eDiligence   \n",
       "\n",
       "                                         description                focus  \\\n",
       "0  [b]We are looking for a talented frontend web ...   Frontend Developer   \n",
       "1  [heading2]WHY YOU SHOULD APPLY:[/heading2]\\r\\n...   Frontend Developer   \n",
       "2  [heading2]Job Description[/heading2]\\r\\n\\r\\nAs...    Backend Developer   \n",
       "3  [b]Based in Downtown Nashville, Simple Logisti...  Fullstack Developer   \n",
       "4  [center][size=4][b]Entry Level Full Stack Deve...  Fullstack Developer   \n",
       "\n",
       "                                          jobTitle  \\\n",
       "0  Frontend Developer (HTML, CSS, and JS) - Remote   \n",
       "1                              Front End Developer   \n",
       "2                Software Developer - Remote | WFH   \n",
       "3                 Junior .NET Full Stack Developer   \n",
       "4                   Entry Level Software Developer   \n",
       "\n",
       "                                                link  \\\n",
       "0  https://lensa.com/frontend-developer-html-css-...   \n",
       "1  https://www.virtualvocations.com/job/remote-fr...   \n",
       "2  https://www.linkedin.com/jobs/view/software-de...   \n",
       "3  https://jobs.wjhl.com/jobs/junior-.net-full-st...   \n",
       "4  https://jooble.org/jdp/-2571818786162603564/En...   \n",
       "\n",
       "                     location            postedDate          remote  \\\n",
       "0    Fort Washington, PA, USA  Jul 14, 2023 8:00 am     100% Remote   \n",
       "1                         NaN  Jul 14, 2023 8:01 am     100% Remote   \n",
       "2  King George, VA 22485, USA  Jul 14, 2023 8:03 am  100% In-Office   \n",
       "3          Nashville, TN, USA  Jul 14, 2023 8:04 am  100% In-Office   \n",
       "4        Los Angeles, CA, USA  Jul 14, 2023 8:05 am     Hybrid Work   \n",
       "\n",
       "  salaryCurrency      salaryRange       type yearsOfExperience postingHour  \\\n",
       "0              $              NaN  Full-time          0-1 year        8 am   \n",
       "1              $         [15, 35]  Full-time          0-1 year        8 am   \n",
       "2              $  [72000, 182000]  Full-time          0-1 year        8 am   \n",
       "3              $              NaN  Full-time          0-1 year        8 am   \n",
       "4              $              NaN  Full-time          0-1 year        8 am   \n",
       "\n",
       "   minSalary  maxSalary          list_of_focus  \n",
       "0        NaN        NaN   [Frontend Developer]  \n",
       "1       15.0       35.0   [Frontend Developer]  \n",
       "2    72000.0   182000.0    [Backend Developer]  \n",
       "3        NaN        NaN  [Fullstack Developer]  \n",
       "4        NaN        NaN  [Fullstack Developer]  "
      ]
     },
     "execution_count": 156,
     "metadata": {},
     "output_type": "execute_result"
    }
   ],
   "source": [
    "#splitting the focus feature by commas so if there are more than one focus, \n",
    "#this will put them in a new column as a list, and remove white space\n",
    "df['list_of_focus'] = df['focus'].str.split(',').apply(lambda x: [item.strip() for item in x])\n",
    "\n",
    "df.head()"
   ]
  },
  {
   "cell_type": "code",
   "execution_count": 157,
   "id": "896210a6",
   "metadata": {},
   "outputs": [],
   "source": [
    "df['list_of_focus'] = df['list_of_focus'].apply(lambda x: x[0])"
   ]
  },
  {
   "cell_type": "code",
   "execution_count": 158,
   "id": "a80113af",
   "metadata": {},
   "outputs": [
    {
     "data": {
      "text/plain": [
       "Counter({'Frontend Developer': 84,\n",
       "         'Backend Developer': 100,\n",
       "         'Fullstack Developer': 229,\n",
       "         'UX Designer': 131,\n",
       "         'Data Analyst': 299,\n",
       "         'Data Scientist': 148,\n",
       "         'IT Support': 116,\n",
       "         'Penetration Tester': 52,\n",
       "         'Security Analyst': 172,\n",
       "         'UI Designer': 92,\n",
       "         'Outbound Sales Representative': 1,\n",
       "         'Strategy': 1,\n",
       "         'Finance': 1})"
      ]
     },
     "execution_count": 158,
     "metadata": {},
     "output_type": "execute_result"
    }
   ],
   "source": [
    "Counter(df['list_of_focus'])"
   ]
  },
  {
   "cell_type": "markdown",
   "id": "cb6c9a4d",
   "metadata": {},
   "source": [
    "We have 3 one offs - looking at them above, Strategy and Finance have a second focus being IT support, so let's change it to that. Then, Outbound Sales doesn't have a second focus, but it is also not a tech job, so let's drop that row."
   ]
  },
  {
   "cell_type": "code",
   "execution_count": 159,
   "id": "322da518",
   "metadata": {},
   "outputs": [
    {
     "data": {
      "text/plain": [
       "726    Strategy\n",
       "Name: list_of_focus, dtype: object"
      ]
     },
     "execution_count": 159,
     "metadata": {},
     "output_type": "execute_result"
    }
   ],
   "source": [
    "#getting the index\n",
    "df[df['list_of_focus'] == 'Strategy']['list_of_focus']"
   ]
  },
  {
   "cell_type": "code",
   "execution_count": 160,
   "id": "04f60001",
   "metadata": {},
   "outputs": [
    {
     "data": {
      "text/plain": [
       "730    Finance\n",
       "Name: list_of_focus, dtype: object"
      ]
     },
     "execution_count": 160,
     "metadata": {},
     "output_type": "execute_result"
    }
   ],
   "source": [
    "df[df['list_of_focus'] == 'Finance']['list_of_focus']"
   ]
  },
  {
   "cell_type": "code",
   "execution_count": 161,
   "id": "9efe1645",
   "metadata": {},
   "outputs": [],
   "source": [
    "df.at[730, 'list_of_focus'] = 'IT Support'\n",
    "df.at[726, 'list_of_focus'] = 'IT Support'"
   ]
  },
  {
   "cell_type": "code",
   "execution_count": 162,
   "id": "b7badb47",
   "metadata": {},
   "outputs": [
    {
     "data": {
      "text/plain": [
       "86    Outbound Sales Representative\n",
       "Name: list_of_focus, dtype: object"
      ]
     },
     "execution_count": 162,
     "metadata": {},
     "output_type": "execute_result"
    }
   ],
   "source": [
    "df[df['list_of_focus'] == 'Outbound Sales Representative']['list_of_focus']"
   ]
  },
  {
   "cell_type": "code",
   "execution_count": 163,
   "id": "272d9d44",
   "metadata": {},
   "outputs": [],
   "source": [
    "df.drop(86, inplace=True)"
   ]
  },
  {
   "cell_type": "markdown",
   "id": "0d116fc2",
   "metadata": {},
   "source": [
    "Double check list of focuses."
   ]
  },
  {
   "cell_type": "code",
   "execution_count": 164,
   "id": "1d1ca08e",
   "metadata": {},
   "outputs": [
    {
     "data": {
      "text/plain": [
       "Counter({'Frontend Developer': 84,\n",
       "         'Backend Developer': 100,\n",
       "         'Fullstack Developer': 229,\n",
       "         'UX Designer': 131,\n",
       "         'Data Analyst': 299,\n",
       "         'Data Scientist': 148,\n",
       "         'IT Support': 118,\n",
       "         'Penetration Tester': 52,\n",
       "         'Security Analyst': 172,\n",
       "         'UI Designer': 92})"
      ]
     },
     "execution_count": 164,
     "metadata": {},
     "output_type": "execute_result"
    }
   ],
   "source": [
    "Counter(df['list_of_focus'])"
   ]
  },
  {
   "cell_type": "markdown",
   "id": "0888cf79",
   "metadata": {},
   "source": [
    "Now that it looks good, replace the focus column with the list of focus column"
   ]
  },
  {
   "cell_type": "code",
   "execution_count": 165,
   "id": "0b5cb0bd",
   "metadata": {},
   "outputs": [],
   "source": [
    "df.drop(columns = 'focus', inplace = True)"
   ]
  },
  {
   "cell_type": "code",
   "execution_count": 166,
   "id": "07cb87fb",
   "metadata": {},
   "outputs": [
    {
     "data": {
      "text/html": [
       "<div>\n",
       "<style scoped>\n",
       "    .dataframe tbody tr th:only-of-type {\n",
       "        vertical-align: middle;\n",
       "    }\n",
       "\n",
       "    .dataframe tbody tr th {\n",
       "        vertical-align: top;\n",
       "    }\n",
       "\n",
       "    .dataframe thead th {\n",
       "        text-align: right;\n",
       "    }\n",
       "</style>\n",
       "<table border=\"1\" class=\"dataframe\">\n",
       "  <thead>\n",
       "    <tr style=\"text-align: right;\">\n",
       "      <th></th>\n",
       "      <th>company</th>\n",
       "      <th>description</th>\n",
       "      <th>jobTitle</th>\n",
       "      <th>link</th>\n",
       "      <th>location</th>\n",
       "      <th>postedDate</th>\n",
       "      <th>remote</th>\n",
       "      <th>salaryCurrency</th>\n",
       "      <th>salaryRange</th>\n",
       "      <th>type</th>\n",
       "      <th>yearsOfExperience</th>\n",
       "      <th>postingHour</th>\n",
       "      <th>minSalary</th>\n",
       "      <th>maxSalary</th>\n",
       "      <th>list_of_focus</th>\n",
       "    </tr>\n",
       "  </thead>\n",
       "  <tbody>\n",
       "    <tr>\n",
       "      <th>0</th>\n",
       "      <td>Novovu</td>\n",
       "      <td>[b]We are looking for a talented frontend web ...</td>\n",
       "      <td>Frontend Developer (HTML, CSS, and JS) - Remote</td>\n",
       "      <td>https://lensa.com/frontend-developer-html-css-...</td>\n",
       "      <td>Fort Washington, PA, USA</td>\n",
       "      <td>Jul 14, 2023 8:00 am</td>\n",
       "      <td>100% Remote</td>\n",
       "      <td>$</td>\n",
       "      <td>NaN</td>\n",
       "      <td>Full-time</td>\n",
       "      <td>0-1 year</td>\n",
       "      <td>8 am</td>\n",
       "      <td>NaN</td>\n",
       "      <td>NaN</td>\n",
       "      <td>Frontend Developer</td>\n",
       "    </tr>\n",
       "    <tr>\n",
       "      <th>1</th>\n",
       "      <td>Coalition Technologies</td>\n",
       "      <td>[heading2]WHY YOU SHOULD APPLY:[/heading2]\\r\\n...</td>\n",
       "      <td>Front End Developer</td>\n",
       "      <td>https://www.virtualvocations.com/job/remote-fr...</td>\n",
       "      <td>NaN</td>\n",
       "      <td>Jul 14, 2023 8:01 am</td>\n",
       "      <td>100% Remote</td>\n",
       "      <td>$</td>\n",
       "      <td>[15, 35]</td>\n",
       "      <td>Full-time</td>\n",
       "      <td>0-1 year</td>\n",
       "      <td>8 am</td>\n",
       "      <td>15.0</td>\n",
       "      <td>35.0</td>\n",
       "      <td>Frontend Developer</td>\n",
       "    </tr>\n",
       "    <tr>\n",
       "      <th>2</th>\n",
       "      <td>Get It Recruit - Information Technology</td>\n",
       "      <td>[heading2]Job Description[/heading2]\\r\\n\\r\\nAs...</td>\n",
       "      <td>Software Developer - Remote | WFH</td>\n",
       "      <td>https://www.linkedin.com/jobs/view/software-de...</td>\n",
       "      <td>King George, VA 22485, USA</td>\n",
       "      <td>Jul 14, 2023 8:03 am</td>\n",
       "      <td>100% In-Office</td>\n",
       "      <td>$</td>\n",
       "      <td>[72000, 182000]</td>\n",
       "      <td>Full-time</td>\n",
       "      <td>0-1 year</td>\n",
       "      <td>8 am</td>\n",
       "      <td>72000.0</td>\n",
       "      <td>182000.0</td>\n",
       "      <td>Backend Developer</td>\n",
       "    </tr>\n",
       "    <tr>\n",
       "      <th>3</th>\n",
       "      <td>SiLo</td>\n",
       "      <td>[b]Based in Downtown Nashville, Simple Logisti...</td>\n",
       "      <td>Junior .NET Full Stack Developer</td>\n",
       "      <td>https://jobs.wjhl.com/jobs/junior-.net-full-st...</td>\n",
       "      <td>Nashville, TN, USA</td>\n",
       "      <td>Jul 14, 2023 8:04 am</td>\n",
       "      <td>100% In-Office</td>\n",
       "      <td>$</td>\n",
       "      <td>NaN</td>\n",
       "      <td>Full-time</td>\n",
       "      <td>0-1 year</td>\n",
       "      <td>8 am</td>\n",
       "      <td>NaN</td>\n",
       "      <td>NaN</td>\n",
       "      <td>Fullstack Developer</td>\n",
       "    </tr>\n",
       "    <tr>\n",
       "      <th>4</th>\n",
       "      <td>eDiligence</td>\n",
       "      <td>[center][size=4][b]Entry Level Full Stack Deve...</td>\n",
       "      <td>Entry Level Software Developer</td>\n",
       "      <td>https://jooble.org/jdp/-2571818786162603564/En...</td>\n",
       "      <td>Los Angeles, CA, USA</td>\n",
       "      <td>Jul 14, 2023 8:05 am</td>\n",
       "      <td>Hybrid Work</td>\n",
       "      <td>$</td>\n",
       "      <td>NaN</td>\n",
       "      <td>Full-time</td>\n",
       "      <td>0-1 year</td>\n",
       "      <td>8 am</td>\n",
       "      <td>NaN</td>\n",
       "      <td>NaN</td>\n",
       "      <td>Fullstack Developer</td>\n",
       "    </tr>\n",
       "  </tbody>\n",
       "</table>\n",
       "</div>"
      ],
      "text/plain": [
       "                                   company  \\\n",
       "0                                   Novovu   \n",
       "1                   Coalition Technologies   \n",
       "2  Get It Recruit - Information Technology   \n",
       "3                                     SiLo   \n",
       "4                               eDiligence   \n",
       "\n",
       "                                         description  \\\n",
       "0  [b]We are looking for a talented frontend web ...   \n",
       "1  [heading2]WHY YOU SHOULD APPLY:[/heading2]\\r\\n...   \n",
       "2  [heading2]Job Description[/heading2]\\r\\n\\r\\nAs...   \n",
       "3  [b]Based in Downtown Nashville, Simple Logisti...   \n",
       "4  [center][size=4][b]Entry Level Full Stack Deve...   \n",
       "\n",
       "                                          jobTitle  \\\n",
       "0  Frontend Developer (HTML, CSS, and JS) - Remote   \n",
       "1                              Front End Developer   \n",
       "2                Software Developer - Remote | WFH   \n",
       "3                 Junior .NET Full Stack Developer   \n",
       "4                   Entry Level Software Developer   \n",
       "\n",
       "                                                link  \\\n",
       "0  https://lensa.com/frontend-developer-html-css-...   \n",
       "1  https://www.virtualvocations.com/job/remote-fr...   \n",
       "2  https://www.linkedin.com/jobs/view/software-de...   \n",
       "3  https://jobs.wjhl.com/jobs/junior-.net-full-st...   \n",
       "4  https://jooble.org/jdp/-2571818786162603564/En...   \n",
       "\n",
       "                     location            postedDate          remote  \\\n",
       "0    Fort Washington, PA, USA  Jul 14, 2023 8:00 am     100% Remote   \n",
       "1                         NaN  Jul 14, 2023 8:01 am     100% Remote   \n",
       "2  King George, VA 22485, USA  Jul 14, 2023 8:03 am  100% In-Office   \n",
       "3          Nashville, TN, USA  Jul 14, 2023 8:04 am  100% In-Office   \n",
       "4        Los Angeles, CA, USA  Jul 14, 2023 8:05 am     Hybrid Work   \n",
       "\n",
       "  salaryCurrency      salaryRange       type yearsOfExperience postingHour  \\\n",
       "0              $              NaN  Full-time          0-1 year        8 am   \n",
       "1              $         [15, 35]  Full-time          0-1 year        8 am   \n",
       "2              $  [72000, 182000]  Full-time          0-1 year        8 am   \n",
       "3              $              NaN  Full-time          0-1 year        8 am   \n",
       "4              $              NaN  Full-time          0-1 year        8 am   \n",
       "\n",
       "   minSalary  maxSalary        list_of_focus  \n",
       "0        NaN        NaN   Frontend Developer  \n",
       "1       15.0       35.0   Frontend Developer  \n",
       "2    72000.0   182000.0    Backend Developer  \n",
       "3        NaN        NaN  Fullstack Developer  \n",
       "4        NaN        NaN  Fullstack Developer  "
      ]
     },
     "execution_count": 166,
     "metadata": {},
     "output_type": "execute_result"
    }
   ],
   "source": [
    "df.head()"
   ]
  },
  {
   "cell_type": "markdown",
   "id": "9b261e5c",
   "metadata": {},
   "source": [
    "Now let's rename the list of focus column to just focus, but let's call it jobTitle actually, since that is really what it is. We need to remove that column now too, and let's remove the company, link, postedDate, location, salaryCurrency, and SalaryRange columns as well since we won't need them. "
   ]
  },
  {
   "cell_type": "code",
   "execution_count": 167,
   "id": "a597d01d",
   "metadata": {},
   "outputs": [],
   "source": [
    "df.drop(columns = ['description', 'company', 'link', 'jobTitle', 'location', 'postedDate', 'salaryCurrency', 'salaryRange'], inplace = True)"
   ]
  },
  {
   "cell_type": "code",
   "execution_count": 168,
   "id": "c80f605c",
   "metadata": {},
   "outputs": [],
   "source": [
    "df.rename(columns={'list_of_focus': 'jobTitle'}, inplace=True)"
   ]
  },
  {
   "cell_type": "code",
   "execution_count": 169,
   "id": "fab923a9",
   "metadata": {},
   "outputs": [
    {
     "data": {
      "text/html": [
       "<div>\n",
       "<style scoped>\n",
       "    .dataframe tbody tr th:only-of-type {\n",
       "        vertical-align: middle;\n",
       "    }\n",
       "\n",
       "    .dataframe tbody tr th {\n",
       "        vertical-align: top;\n",
       "    }\n",
       "\n",
       "    .dataframe thead th {\n",
       "        text-align: right;\n",
       "    }\n",
       "</style>\n",
       "<table border=\"1\" class=\"dataframe\">\n",
       "  <thead>\n",
       "    <tr style=\"text-align: right;\">\n",
       "      <th></th>\n",
       "      <th>remote</th>\n",
       "      <th>type</th>\n",
       "      <th>yearsOfExperience</th>\n",
       "      <th>postingHour</th>\n",
       "      <th>minSalary</th>\n",
       "      <th>maxSalary</th>\n",
       "      <th>jobTitle</th>\n",
       "    </tr>\n",
       "  </thead>\n",
       "  <tbody>\n",
       "    <tr>\n",
       "      <th>0</th>\n",
       "      <td>100% Remote</td>\n",
       "      <td>Full-time</td>\n",
       "      <td>0-1 year</td>\n",
       "      <td>8 am</td>\n",
       "      <td>NaN</td>\n",
       "      <td>NaN</td>\n",
       "      <td>Frontend Developer</td>\n",
       "    </tr>\n",
       "    <tr>\n",
       "      <th>1</th>\n",
       "      <td>100% Remote</td>\n",
       "      <td>Full-time</td>\n",
       "      <td>0-1 year</td>\n",
       "      <td>8 am</td>\n",
       "      <td>15.0</td>\n",
       "      <td>35.0</td>\n",
       "      <td>Frontend Developer</td>\n",
       "    </tr>\n",
       "    <tr>\n",
       "      <th>2</th>\n",
       "      <td>100% In-Office</td>\n",
       "      <td>Full-time</td>\n",
       "      <td>0-1 year</td>\n",
       "      <td>8 am</td>\n",
       "      <td>72000.0</td>\n",
       "      <td>182000.0</td>\n",
       "      <td>Backend Developer</td>\n",
       "    </tr>\n",
       "    <tr>\n",
       "      <th>3</th>\n",
       "      <td>100% In-Office</td>\n",
       "      <td>Full-time</td>\n",
       "      <td>0-1 year</td>\n",
       "      <td>8 am</td>\n",
       "      <td>NaN</td>\n",
       "      <td>NaN</td>\n",
       "      <td>Fullstack Developer</td>\n",
       "    </tr>\n",
       "    <tr>\n",
       "      <th>4</th>\n",
       "      <td>Hybrid Work</td>\n",
       "      <td>Full-time</td>\n",
       "      <td>0-1 year</td>\n",
       "      <td>8 am</td>\n",
       "      <td>NaN</td>\n",
       "      <td>NaN</td>\n",
       "      <td>Fullstack Developer</td>\n",
       "    </tr>\n",
       "  </tbody>\n",
       "</table>\n",
       "</div>"
      ],
      "text/plain": [
       "           remote       type yearsOfExperience postingHour  minSalary  \\\n",
       "0     100% Remote  Full-time          0-1 year        8 am        NaN   \n",
       "1     100% Remote  Full-time          0-1 year        8 am       15.0   \n",
       "2  100% In-Office  Full-time          0-1 year        8 am    72000.0   \n",
       "3  100% In-Office  Full-time          0-1 year        8 am        NaN   \n",
       "4     Hybrid Work  Full-time          0-1 year        8 am        NaN   \n",
       "\n",
       "   maxSalary             jobTitle  \n",
       "0        NaN   Frontend Developer  \n",
       "1       35.0   Frontend Developer  \n",
       "2   182000.0    Backend Developer  \n",
       "3        NaN  Fullstack Developer  \n",
       "4        NaN  Fullstack Developer  "
      ]
     },
     "execution_count": 169,
     "metadata": {},
     "output_type": "execute_result"
    }
   ],
   "source": [
    "df.head()"
   ]
  },
  {
   "cell_type": "markdown",
   "id": "144a49ab",
   "metadata": {},
   "source": [
    "## Description/Text Cleaning\n",
    "\n",
    "Now we can handle the description part. "
   ]
  },
  {
   "cell_type": "code",
   "execution_count": 170,
   "id": "00efb559",
   "metadata": {},
   "outputs": [
    {
     "ename": "AttributeError",
     "evalue": "'DataFrame' object has no attribute 'description'",
     "output_type": "error",
     "traceback": [
      "\u001b[1;31m---------------------------------------------------------------------------\u001b[0m",
      "\u001b[1;31mAttributeError\u001b[0m                            Traceback (most recent call last)",
      "Cell \u001b[1;32mIn[170], line 1\u001b[0m\n\u001b[1;32m----> 1\u001b[0m \u001b[38;5;28msum\u001b[39m(\u001b[43mdf\u001b[49m\u001b[38;5;241;43m.\u001b[39;49m\u001b[43mdescription\u001b[49m\u001b[38;5;241m.\u001b[39misnull())\n",
      "File \u001b[1;32m~\\anaconda3\\lib\\site-packages\\pandas\\core\\generic.py:5902\u001b[0m, in \u001b[0;36mNDFrame.__getattr__\u001b[1;34m(self, name)\u001b[0m\n\u001b[0;32m   5895\u001b[0m \u001b[38;5;28;01mif\u001b[39;00m (\n\u001b[0;32m   5896\u001b[0m     name \u001b[38;5;129;01mnot\u001b[39;00m \u001b[38;5;129;01min\u001b[39;00m \u001b[38;5;28mself\u001b[39m\u001b[38;5;241m.\u001b[39m_internal_names_set\n\u001b[0;32m   5897\u001b[0m     \u001b[38;5;129;01mand\u001b[39;00m name \u001b[38;5;129;01mnot\u001b[39;00m \u001b[38;5;129;01min\u001b[39;00m \u001b[38;5;28mself\u001b[39m\u001b[38;5;241m.\u001b[39m_metadata\n\u001b[0;32m   5898\u001b[0m     \u001b[38;5;129;01mand\u001b[39;00m name \u001b[38;5;129;01mnot\u001b[39;00m \u001b[38;5;129;01min\u001b[39;00m \u001b[38;5;28mself\u001b[39m\u001b[38;5;241m.\u001b[39m_accessors\n\u001b[0;32m   5899\u001b[0m     \u001b[38;5;129;01mand\u001b[39;00m \u001b[38;5;28mself\u001b[39m\u001b[38;5;241m.\u001b[39m_info_axis\u001b[38;5;241m.\u001b[39m_can_hold_identifiers_and_holds_name(name)\n\u001b[0;32m   5900\u001b[0m ):\n\u001b[0;32m   5901\u001b[0m     \u001b[38;5;28;01mreturn\u001b[39;00m \u001b[38;5;28mself\u001b[39m[name]\n\u001b[1;32m-> 5902\u001b[0m \u001b[38;5;28;01mreturn\u001b[39;00m \u001b[38;5;28;43mobject\u001b[39;49m\u001b[38;5;241;43m.\u001b[39;49m\u001b[38;5;21;43m__getattribute__\u001b[39;49m\u001b[43m(\u001b[49m\u001b[38;5;28;43mself\u001b[39;49m\u001b[43m,\u001b[49m\u001b[43m \u001b[49m\u001b[43mname\u001b[49m\u001b[43m)\u001b[49m\n",
      "\u001b[1;31mAttributeError\u001b[0m: 'DataFrame' object has no attribute 'description'"
     ]
    }
   ],
   "source": [
    "sum(df.description.isnull())"
   ]
  },
  {
   "cell_type": "markdown",
   "id": "7a55bcdc",
   "metadata": {},
   "source": [
    "Only 4 null values, not much to worry about here.\n",
    "\n",
    "To get the skills, probably want to do some tokenization with the descriptions, grouping by jobTitle - or previously known as the focus - and the most frequent token will hopefully be the technical skills."
   ]
  },
  {
   "cell_type": "code",
   "execution_count": null,
   "id": "56a56200",
   "metadata": {},
   "outputs": [],
   "source": [
    "df.description[1]"
   ]
  },
  {
   "cell_type": "markdown",
   "id": "e77cdf94",
   "metadata": {},
   "source": [
    "grouping by job title"
   ]
  },
  {
   "cell_type": "code",
   "execution_count": null,
   "id": "d004d0db",
   "metadata": {},
   "outputs": [],
   "source": [
    "#filling nulls in first so next operation works\n",
    "df['description'].fillna('', inplace=True)\n",
    "\n",
    "grouped_df = df.groupby('jobTitle')['description'].apply(lambda x: ' '.join(x)).reset_index()"
   ]
  },
  {
   "cell_type": "code",
   "execution_count": null,
   "id": "85b13e6b",
   "metadata": {},
   "outputs": [],
   "source": [
    "grouped_df"
   ]
  },
  {
   "cell_type": "markdown",
   "id": "1672ea9f",
   "metadata": {},
   "source": [
    "We have a lot of text to get rid of, as seen below. anything in brackets should be replaced by spaces, and then \\r and \\n should be removed as well."
   ]
  },
  {
   "cell_type": "code",
   "execution_count": null,
   "id": "0f55f647",
   "metadata": {},
   "outputs": [],
   "source": [
    "grouped_df.iloc[0]['description']"
   ]
  },
  {
   "cell_type": "code",
   "execution_count": null,
   "id": "a6b6d3b0",
   "metadata": {},
   "outputs": [],
   "source": [
    "#pattern to get rid of anything in brackets\n",
    "pattern = r'\\[.*?\\]'\n",
    "\n",
    "grouped_df['description'] = grouped_df['description'].apply(lambda x: re.sub(pattern, '', x))"
   ]
  },
  {
   "cell_type": "code",
   "execution_count": null,
   "id": "19b6c341",
   "metadata": {},
   "outputs": [],
   "source": [
    "grouped_df.iloc[0]['description']"
   ]
  },
  {
   "cell_type": "markdown",
   "id": "a5c2178e",
   "metadata": {},
   "source": [
    "quickly scanning this it seems it is just punctuations and \\r and \\n that need to be removed now."
   ]
  },
  {
   "cell_type": "code",
   "execution_count": null,
   "id": "9c4f1f47",
   "metadata": {},
   "outputs": [],
   "source": [
    "grouped_df['description'] = grouped_df['description'].apply(lambda x: x.replace('\\r', ' '))\n",
    "grouped_df['description'] = grouped_df['description'].apply(lambda x: x.replace('\\n', ' '))"
   ]
  },
  {
   "cell_type": "markdown",
   "id": "d6c65b2e",
   "metadata": {},
   "source": [
    "Now just punctuations."
   ]
  },
  {
   "cell_type": "code",
   "execution_count": null,
   "id": "d42c2862",
   "metadata": {},
   "outputs": [],
   "source": [
    "punctuation_list = list(string.punctuation)\n",
    "\n",
    "for punc in punctuation_list:\n",
    "    grouped_df['description'] = grouped_df['description'].apply(lambda x: x.replace(punc, ' '))"
   ]
  },
  {
   "cell_type": "code",
   "execution_count": null,
   "id": "0feb1322",
   "metadata": {},
   "outputs": [],
   "source": [
    "grouped_df.iloc[0]['description']"
   ]
  },
  {
   "cell_type": "markdown",
   "id": "90d03fae",
   "metadata": {},
   "source": [
    "One more time, bullet points weren't in the punctuation list so we need to do that too."
   ]
  },
  {
   "cell_type": "code",
   "execution_count": null,
   "id": "515761cc",
   "metadata": {},
   "outputs": [],
   "source": [
    "grouped_df['description'] = grouped_df['description'].apply(lambda x: x.replace('•', ' '))"
   ]
  },
  {
   "cell_type": "code",
   "execution_count": null,
   "id": "17b6171e",
   "metadata": {},
   "outputs": [],
   "source": [
    "grouped_df.iloc[0]['description']"
   ]
  },
  {
   "cell_type": "markdown",
   "id": "9f61c05c",
   "metadata": {},
   "source": [
    "removing extra spaces"
   ]
  },
  {
   "cell_type": "code",
   "execution_count": null,
   "id": "2a96590e",
   "metadata": {},
   "outputs": [],
   "source": [
    "grouped_df['description'] = grouped_df['description'].apply(lambda x: x.split())\n",
    "grouped_df['description'] = grouped_df['description'].apply(lambda x: ' '.join(x))\n",
    "\n",
    "grouped_df.iloc[0]['description']"
   ]
  },
  {
   "cell_type": "code",
   "execution_count": null,
   "id": "e881d639",
   "metadata": {},
   "outputs": [],
   "source": [
    "#let's also lower case everything now\n",
    "grouped_df['description'] = grouped_df['description'].apply(lambda x: x.lower())\n",
    "\n",
    "#grouped_df.iloc[0]['description']"
   ]
  },
  {
   "cell_type": "markdown",
   "id": "b4d21d1a",
   "metadata": {},
   "source": [
    "Now let's remove stop words."
   ]
  },
  {
   "cell_type": "code",
   "execution_count": null,
   "id": "72fefead",
   "metadata": {},
   "outputs": [],
   "source": [
    "nltk.download('stopwords')\n",
    "#set of stopwords to search through\n",
    "stop_words = set(stopwords.words('english'))\n",
    "\n",
    "#tokenize and then remove stop words \n",
    "grouped_df['description'] = grouped_df['description'].apply(lambda x: nltk.word_tokenize(x))\n",
    "grouped_df['description'] = grouped_df['description'].apply(lambda x: [word for word in x if word not in stop_words])"
   ]
  },
  {
   "cell_type": "markdown",
   "id": "96a071d1",
   "metadata": {},
   "source": [
    "**Easiest thing to do here since hard technical skills aren't the most common is to look manually for the top 5 of each one, and note them down in another dictinary of dataframe.**"
   ]
  },
  {
   "cell_type": "code",
   "execution_count": null,
   "id": "aa014250",
   "metadata": {},
   "outputs": [],
   "source": [
    "#backend\n",
    "Counter(grouped_df.iloc[0]['description']).most_common()"
   ]
  },
  {
   "cell_type": "code",
   "execution_count": null,
   "id": "fc9481c8",
   "metadata": {},
   "outputs": [],
   "source": [
    "backend_top_skills = {'java': 67, 'aws': 63, 'python': 59, 'react': 48, 'javascript': 47}"
   ]
  },
  {
   "cell_type": "code",
   "execution_count": null,
   "id": "1cababef",
   "metadata": {},
   "outputs": [],
   "source": [
    "#data analyst\n",
    "Counter(grouped_df.iloc[1]['description']).most_common()"
   ]
  },
  {
   "cell_type": "code",
   "execution_count": null,
   "id": "ca0bc5c8",
   "metadata": {},
   "outputs": [],
   "source": [
    "data_analyst_top_skills = {'sql': 315, 'python': 219, 'excel': 193, 'tableau': 164, 'power': 114}"
   ]
  },
  {
   "cell_type": "code",
   "execution_count": null,
   "id": "fecb5a77",
   "metadata": {},
   "outputs": [],
   "source": [
    "#data scientist\n",
    "Counter(grouped_df.iloc[2]['description']).most_common()"
   ]
  },
  {
   "cell_type": "code",
   "execution_count": null,
   "id": "be94e435",
   "metadata": {},
   "outputs": [],
   "source": [
    "data_scientist_top_skills = {'python': 141, 'sql': 121, 'r': 93, 'tableau': 49, 'aws': 32}"
   ]
  },
  {
   "cell_type": "code",
   "execution_count": null,
   "id": "c2f56b1c",
   "metadata": {},
   "outputs": [],
   "source": [
    "#frontend\n",
    "Counter(grouped_df.iloc[3]['description']).most_common()"
   ]
  },
  {
   "cell_type": "code",
   "execution_count": null,
   "id": "01e77579",
   "metadata": {},
   "outputs": [],
   "source": [
    "frontend_top_skills = {'javascript': 78, 'html': 60, 'react': 60, 'css': 53, 'sql': 28}"
   ]
  },
  {
   "cell_type": "code",
   "execution_count": null,
   "id": "d7b56abe",
   "metadata": {},
   "outputs": [],
   "source": [
    "#fullstack\n",
    "Counter(grouped_df.iloc[4]['description']).most_common()"
   ]
  },
  {
   "cell_type": "code",
   "execution_count": null,
   "id": "893b8b46",
   "metadata": {},
   "outputs": [],
   "source": [
    "fullstack_top_skills = {'javascript': 223, 'aws': 180, 'react': 165, 'sql': 155, 'java': 151}"
   ]
  },
  {
   "cell_type": "code",
   "execution_count": null,
   "id": "4276cfdb",
   "metadata": {},
   "outputs": [],
   "source": [
    "#IT support\n",
    "Counter(grouped_df.iloc[5]['description']).most_common()"
   ]
  },
  {
   "cell_type": "code",
   "execution_count": null,
   "id": "d3d5093e",
   "metadata": {},
   "outputs": [],
   "source": [
    "it_support_top_skills = {'office': 95, 'windows': 75, 'ios': 15, 'jira': 9, 'linux': 8}"
   ]
  },
  {
   "cell_type": "code",
   "execution_count": null,
   "id": "d4ee3ebe",
   "metadata": {},
   "outputs": [],
   "source": [
    "#Penetration Tester\n",
    "Counter(grouped_df.iloc[6]['description']).most_common()"
   ]
  },
  {
   "cell_type": "code",
   "execution_count": null,
   "id": "78df78bd",
   "metadata": {},
   "outputs": [],
   "source": [
    "penetration_tester_top_skills = {'linux': 33, 'windows': 29, 'python': 27, 'java': 16, 'metasploit': 16}"
   ]
  },
  {
   "cell_type": "code",
   "execution_count": null,
   "id": "1df63033",
   "metadata": {},
   "outputs": [],
   "source": [
    "#Security Analyst\n",
    "Counter(grouped_df.iloc[7]['description']).most_common()"
   ]
  },
  {
   "cell_type": "code",
   "execution_count": null,
   "id": "6f30af2c",
   "metadata": {},
   "outputs": [],
   "source": [
    "security_analyst_top_skills = {'windows': 58, 'siem': 56, 'soc': 56, 'azure': 32, 'linux': 26}"
   ]
  },
  {
   "cell_type": "code",
   "execution_count": null,
   "id": "2d0e2826",
   "metadata": {},
   "outputs": [],
   "source": [
    "#UI Designer\n",
    "Counter(grouped_df.iloc[8]['description']).most_common()"
   ]
  },
  {
   "cell_type": "code",
   "execution_count": null,
   "id": "76d188bd",
   "metadata": {},
   "outputs": [],
   "source": [
    "ui_top_skills = {'wireframes': 82, 'user flow': 78, 'prototypes': 61, 'figma': 45, 'javascript': 40}"
   ]
  },
  {
   "cell_type": "code",
   "execution_count": null,
   "id": "f1ab2751",
   "metadata": {},
   "outputs": [],
   "source": [
    "#UX Designer\n",
    "Counter(grouped_df.iloc[9]['description']).most_common()"
   ]
  },
  {
   "cell_type": "code",
   "execution_count": null,
   "id": "41b2e80c",
   "metadata": {},
   "outputs": [],
   "source": [
    "ux_top_skills = {'prototypes': 87, 'user flow': 87, 'wireframes': 81, 'figma': 81, 'adobe': 60}"
   ]
  },
  {
   "cell_type": "markdown",
   "id": "09376cbd",
   "metadata": {},
   "source": [
    "Now that we have all of these, let's add them to the grouped dataframe. Let;s get a list of all the lists created above. Then, lets put them in a dict to turn into a dataframe."
   ]
  },
  {
   "cell_type": "code",
   "execution_count": null,
   "id": "52e8cc2c",
   "metadata": {},
   "outputs": [],
   "source": [
    "job_skills_list = \n",
    "[\n",
    "    backend_top_skills, \n",
    "    data_analyst_top_skills, \n",
    "    data_scientist_top_skills, \n",
    "    frontend_top_skills, \n",
    "    fullstack_top_skills, \n",
    "    it_support_top_skills, \n",
    "    penetration_tester_top_skills, \n",
    "    security_analyst_top_skills, \n",
    "    ui_top_skills, \n",
    "    ux_top_skills\n",
    "]"
   ]
  },
  {
   "cell_type": "code",
   "execution_count": null,
   "id": "458a51bc",
   "metadata": {},
   "outputs": [],
   "source": [
    "#using a default dict, we want to add lists for skills and frequencies, which we will fill in after.\n",
    "skills_dict = defaultdict()\n",
    "\n",
    "for i in range(5):\n",
    "    skills_dict['skill_{}'.format(i+1)] = []\n",
    "    skills_dict['freq_{}'.format(i+1)] = []\n",
    "\n",
    "skills_dict"
   ]
  },
  {
   "cell_type": "code",
   "execution_count": null,
   "id": "a53c5393",
   "metadata": {},
   "outputs": [],
   "source": [
    "#now let's fill in the skills and freq's by iterating over the job_skills_list and do it 5 times since we have 5 skills\n",
    "for i in range(5):    \n",
    "    for job in job_skills_list:\n",
    "        skills_dict['skill_{}'.format(i+1)].append(list(job.items())[i][0])\n",
    "        skills_dict['freq_{}'.format(i+1)].append(list(job.items())[i][1])"
   ]
  },
  {
   "cell_type": "code",
   "execution_count": null,
   "id": "05b41488",
   "metadata": {},
   "outputs": [],
   "source": [
    "#make it a dataframe\n",
    "top_skills_df = pd.DataFrame(skills_dict)\n",
    "top_skills_df"
   ]
  },
  {
   "cell_type": "code",
   "execution_count": null,
   "id": "37471cf1",
   "metadata": {},
   "outputs": [],
   "source": [
    "#we don't need the descriptions anymore, so let's just get the jobTitles and concat these dataframes.\n",
    "top_5_skills_df = pd.concat([grouped_df['jobTitle'], top_skills_df], axis = 1)\n",
    "top_5_skills_df"
   ]
  },
  {
   "cell_type": "markdown",
   "id": "899bdbc0",
   "metadata": {},
   "source": [
    "And that's it. Now let's export this and the previous dataframe that isn't grouped as csv files so we can upload them to Tableau."
   ]
  },
  {
   "cell_type": "code",
   "execution_count": null,
   "id": "5c5c7e1b",
   "metadata": {},
   "outputs": [],
   "source": [
    "top_5_skills_df.to_csv('top_5_skills_per_job.csv', index=False)\n",
    "df.to_csv('cleaned_job_data.csv', index=False)"
   ]
  },
  {
   "cell_type": "markdown",
   "id": "778debf4",
   "metadata": {},
   "source": [
    "The following is just an idea for future improvement, and is not completed either."
   ]
  },
  {
   "cell_type": "code",
   "execution_count": null,
   "id": "f7acdc57",
   "metadata": {},
   "outputs": [],
   "source": [
    "#if wanted to automate getting most common skills, could make a list of most common ones manually, and search for them\n",
    "backend_skills = ['python', 'java', 'ruby', 'node', 'django', 'flask', 'sql', 'nosql', 'linux', 'aws', 'docker', \n",
    "                  'api', 'git', 'php', 'ruby', 'express', 'api', 'json', 'xml', 'github']\n",
    "\n",
    "frontend_skills = ['html', 'css', 'javascript', 'react', 'angular', 'vue', 'ux', 'ui', 'redux', 'vuex', 'sass', 'less'\n",
    "                'jquery', 'version', 'testing', 'unit', 'stylus', 'gui']\n",
    "\n",
    "#fullstack is both of the above combined\n",
    "\n",
    "#testing here is a/b testing, removing white space may have messed this word here. \n",
    "#google is also referring to google sheets and power is PowerBI\n",
    "data_analyst_skills = ['python', 'r', 'tableau', 'power', 'matplotlib', 'ggplot2', 'sql', 'excel', 'google',\n",
    "                       'statistics', 'statistical', 'cleaning', 'testing', 'visualization', 'business']\n",
    "\n",
    "#Machine Learning, Deep Learning, Predictive Modeling are the full version of first three, and vision is computer vision\n",
    "data_scientist_skills = ['machine', 'deep', 'predictive', 'spark', 'nlp', 'vision', 'ai', 'scikit', 'tensorflow', \n",
    "                         'pytorch', 'matlab', 'algebra', 'calculus']\n",
    "\n",
    "\n",
    "it_support_skills = ['troubleshooting', 'operating', 'windows', 'macos', 'linux', 'network', 'cybersecurity', \n",
    "                     'desktop', 'aws', 'azure', 'gcp']\n",
    "\n",
    "penetration_tester_skills = [\n",
    "    \"Ethical Hacking\",\n",
    "    \"Network Scanning\",\n",
    "    \"Vulnerability Assessment\",\n",
    "    \"Exploitation Techniques\",\n",
    "    \"Web Application Testing\",\n",
    "    \"Wireless Network Security\",\n",
    "    \"Security Tools (Metasploit, Wireshark, Nmap)\",\n",
    "    \"Report Writing\",\n",
    "    \"Compliance Standards (ISO 27001, NIST)\",\n",
    "    \"Social Engineering\"]\n",
    "\n",
    "security_analyst_skills = penetration_tester_skills\n",
    "\n",
    "ux_designer_skills = [\n",
    "    \"User Research\",\n",
    "    \"Information Architecture\",\n",
    "    \"Wireframing and Prototyping\",\n",
    "    \"Usability Testing\",\n",
    "    \"Interaction Design\",\n",
    "    \"Persona Development\",\n",
    "    \"User Flows\",\n",
    "    \"Visual Design Principles\",\n",
    "    \"Design Thinking\",\n",
    "    \"UX/UI Tools (Sketch, Figma, Adobe XD)\"\n",
    "]\n",
    "\n",
    "ui_designer_skills = [\n",
    "    \"Visual Design\",\n",
    "    \"Graphic Design Software (Adobe Creative Suite)\",\n",
    "    \"Color Theory\",\n",
    "    \"Typography\",\n",
    "    \"Icon Design\",\n",
    "    \"User Interface Patterns\",\n",
    "    \"Responsive Design\",\n",
    "    \"Design Systems\",\n",
    "    \"Animation\",\n",
    "    \"Collaboration with Developers\"\n",
    "]\n"
   ]
  }
 ],
 "metadata": {
  "kernelspec": {
   "display_name": "Python 3 (ipykernel)",
   "language": "python",
   "name": "python3"
  },
  "language_info": {
   "codemirror_mode": {
    "name": "ipython",
    "version": 3
   },
   "file_extension": ".py",
   "mimetype": "text/x-python",
   "name": "python",
   "nbconvert_exporter": "python",
   "pygments_lexer": "ipython3",
   "version": "3.8.5"
  }
 },
 "nbformat": 4,
 "nbformat_minor": 5
}
